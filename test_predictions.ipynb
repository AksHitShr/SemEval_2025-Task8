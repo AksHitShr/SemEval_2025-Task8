{
 "cells": [
  {
   "cell_type": "markdown",
   "metadata": {},
   "source": [
    "### Importing the required python packages"
   ]
  },
  {
   "cell_type": "code",
   "execution_count": 284,
   "metadata": {},
   "outputs": [],
   "source": [
    "from urllib.parse import quote\n",
    "import os\n",
    "import getpass\n",
    "import pandas as pd\n",
    "from langchain_community.agent_toolkits import SQLDatabaseToolkit\n",
    "from langgraph.prebuilt import create_react_agent\n",
    "from langchain_core.prompts import ChatPromptTemplate\n",
    "from langchain_community.utilities import SQLDatabase\n",
    "from langchain_groq import ChatGroq\n",
    "import time\n",
    "from tqdm import tqdm"
   ]
  },
  {
   "cell_type": "markdown",
   "metadata": {},
   "source": [
    "### Connecting to the appropriate SQL DB"
   ]
  },
  {
   "cell_type": "code",
   "execution_count": null,
   "metadata": {},
   "outputs": [],
   "source": [
    "with open('pass.txt', 'r') as file:\n",
    "    password = file.read()\n",
    "\n",
    "user = \"root\"\n",
    "host = \"localhost\"\n",
    "database = \"SEMEVALSAMPLE\"\n",
    "\n",
    "encoded_password = quote(password)\n",
    "connection_uri = f\"mysql+pymysql://{user}:{encoded_password}@{host}/{database}\"\n",
    "db = SQLDatabase.from_uri(connection_uri)\n",
    "print(db.dialect)\n",
    "print(db.get_usable_table_names())"
   ]
  },
  {
   "cell_type": "markdown",
   "metadata": {},
   "source": [
    "### Defining the system messages for the answer generation prompt and formating prompt"
   ]
  },
  {
   "cell_type": "code",
   "execution_count": 286,
   "metadata": {},
   "outputs": [],
   "source": [
    "system_message=\"\"\"\n",
    "You are an agent designed to interact with a SQL database.\n",
    "Given is an input question and the table name which has its answer. First, get the schema for this table and then create a syntactically correct MySQL query using to run, then look at the results of the query and return the answer.\n",
    "Unless the user specifies a specific number of examples they wish to obtain, always limit your query to at most 1 results.\n",
    "You can order the results by a relevant column to return the most interesting examples in the database.\n",
    "Never query for all the columns from a specific table, only ask for the relevant columns given the question.\n",
    "You have access to tools for interacting with the database.\n",
    "Only use the below tools. Only use the information returned by the below tools to construct your final answer.\n",
    "You MUST double check your query before executing it. If you get an error while executing a query, rewrite the query and try again.\n",
    "\n",
    "DO NOT make any DML statements (INSERT, UPDATE, DELETE, DROP etc.) to the database.\n",
    "\n",
    "If multiple queries need to be executed, execute them one by one.\n",
    "There might be cases where you need to query the table multiple times (example: finding unique values of a particular column from the table first).\n",
    "Then you should query the schema of the table and give the final answer based on the query output.\n",
    "\"\"\"\n",
    "\n",
    "sys_msg=\"\"\"\n",
    "You are given a question and answer pair. Give the answer in one of the following answer types :-\n",
    "Boolean: Valid answers include True/False, Y/N, Yes/No (all case insensitive).\n",
    "Category: A value from a cell (or a substring of a cell) in the dataset.\n",
    "Number: A numerical value from a cell in the dataset, which may represent a computed statistic (e.g., average, maximum, minimum).\n",
    "List[category]: A list containing a fixed number of categories. The expected format is: \"['cat', 'dog']\". Pay attention to the wording of the question to determine if uniqueness is required or if repeated values are allowed.\n",
    "List[number]: Similar to List[category], but with numbers as its elements.\n",
    "Do not give anything else other than the final answer with the correct datatype.\n",
    "\"\"\""
   ]
  },
  {
   "cell_type": "markdown",
   "metadata": {},
   "source": [
    "### Defining the model"
   ]
  },
  {
   "cell_type": "code",
   "execution_count": 287,
   "metadata": {},
   "outputs": [],
   "source": [
    "if not os.environ.get(\"GROQ_API_KEY\"):\n",
    "        os.environ[\"GROQ_API_KEY\"] = getpass.getpass(\"Enter API key for Groq: \")\n",
    "llm = ChatGroq(model=\"llama-3.3-70b-versatile\")\n",
    "llm2 = ChatGroq(model=\"llama3-8b-8192\")"
   ]
  },
  {
   "cell_type": "markdown",
   "metadata": {},
   "source": [
    "### Generating the answers by iterating through the test_qa file and using agent for each question"
   ]
  },
  {
   "cell_type": "code",
   "execution_count": null,
   "metadata": {},
   "outputs": [],
   "source": [
    "df = pd.read_csv('test_qa.csv')\n",
    "for index, row in tqdm(df.iterrows()):\n",
    "    query = row['question']\n",
    "    table = row['dataset']\n",
    "    question = f\"Table name: {table}, Question: {query}\"\n",
    "\n",
    "    toolkit = SQLDatabaseToolkit(db=db, llm=llm)\n",
    "    tools = toolkit.get_tools()\n",
    "    agent_executor = create_react_agent(llm, tools, state_modifier=system_message)\n",
    "\n",
    "    events = agent_executor.stream(\n",
    "        {\"messages\": [(\"user\", question)]},\n",
    "        stream_mode=\"values\",\n",
    "    )\n",
    "    out_str = events[0][\"messages\"][-1]\n",
    "\n",
    "    formatting_prompt = ChatPromptTemplate.from_messages([(\"system\", sys_msg), (\"human\", f\"Question: {query}, Answer:{out_str.content}\")])\n",
    "    response = llm2.invoke(formatting_prompt)\n",
    "    \n",
    "    with open(\"predictions.txt\", \"a+\") as f:\n",
    "        print(response.content,file=f)\n",
    "    f.close()\n",
    "\n",
    "    time.sleep(10)"
   ]
  }
 ],
 "metadata": {
  "kernelspec": {
   "display_name": "cv",
   "language": "python",
   "name": "python3"
  },
  "language_info": {
   "codemirror_mode": {
    "name": "ipython",
    "version": 3
   },
   "file_extension": ".py",
   "mimetype": "text/x-python",
   "name": "python",
   "nbconvert_exporter": "python",
   "pygments_lexer": "ipython3",
   "version": "3.9.18"
  }
 },
 "nbformat": 4,
 "nbformat_minor": 2
}
